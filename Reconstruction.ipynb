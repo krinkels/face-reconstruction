{
 "cells": [
  {
   "cell_type": "code",
   "execution_count": null,
   "metadata": {
    "collapsed": true
   },
   "outputs": [],
   "source": [
    "import cv2\n",
    "import dlib\n",
    "import imutils\n",
    "from imutils import face_utils\n",
    "import numpy as np\n",
    "import matplotlib.pyplot as plt\n",
    "import matplotlib.gridspec as gridspec\n",
    "from mpl_toolkits.mplot3d import Axes3D\n",
    "import os\n",
    "%matplotlib inline"
   ]
  },
  {
   "cell_type": "code",
   "execution_count": null,
   "metadata": {
    "collapsed": true
   },
   "outputs": [],
   "source": [
    "PREDICTOR_FILE = \"shape_predictor_68_face_landmarks.dat\"\n",
    "NUM_POINTS = 68\n",
    "NUM_BASES = 20\n",
    "FRAME_DIR = \"frames\""
   ]
  },
  {
   "cell_type": "code",
   "execution_count": null,
   "metadata": {
    "collapsed": false
   },
   "outputs": [],
   "source": [
    "\"\"\"\n",
    "Detects the largest face in the image and returns the facial landmarks. If no\n",
    "face is detected, returns (None, None)\n",
    "\"\"\"\n",
    "def get_landmarks(image, detector, predictor):\n",
    "    rects = detector(image, 1)\n",
    "    if len(rects) == 0:\n",
    "        return None, None\n",
    "\n",
    "    largest_rect = max(rects, key=lambda x: x.area())\n",
    "    shape = predictor(image, largest_rect)\n",
    "\n",
    "    # Convert to friendly data types\n",
    "    bounding_box = face_utils.rect_to_bb(largest_rect)\n",
    "    shape = imutils.face_utils.shape_to_np(shape)\n",
    "    return bounding_box, shape\n",
    "\n",
    "\"\"\"\n",
    "Extracts still frames from the video file every msecs milliseconds.\n",
    "\"\"\"\n",
    "def get_frames(video_path, msecs, max_frames=0, rotation=0):\n",
    "    video = cv2.VideoCapture(video_path)\n",
    "    _, frame = video.read()\n",
    "    success = True\n",
    "    timestamp = 0\n",
    "    frames = []\n",
    "    while success:\n",
    "        video.set(cv2.CAP_PROP_POS_MSEC,timestamp)\n",
    "        success, frame = video.read()\n",
    "        if not success:\n",
    "            break\n",
    "        frame = imutils.rotate(frame, angle=rotation)\n",
    "        frame = imutils.resize(frame, width=500)\n",
    "        frames.append(frame)\n",
    "        timestamp += msecs\n",
    "\n",
    "        if max_frames > 0 and len(frames) == max_frames:\n",
    "            break\n",
    "    video.release()\n",
    "    return frames\n",
    "\n",
    "\"\"\"\n",
    "Non-rigid factorization method as described in 'Recoverying Non-Rigid\n",
    "3D Shape from Image Streams.\n",
    "\n",
    "Arguments:\n",
    "    points: 2T x P matrix of P points across T time steps\n",
    "    K: the number of basis shapes\n",
    "Returns:\n",
    "    bases: basis shapes (3K x P)\n",
    "    weights: basis weights (T x K)\n",
    "    rotations: structure (T x 2 x 3)\n",
    "\"\"\"\n",
    "def nonrigid_sfm(points, K):\n",
    "    # Get some parameter values.\n",
    "    T = points.shape[0] / 2\n",
    "    P = points.shape[1]\n",
    "    rank = 3 * K\n",
    "\n",
    "    # Center the points\n",
    "    W = points - np.mean(points, axis=1, keepdims=True)\n",
    "\n",
    "    # Apply SVD to decompose W into Q and B matrices\n",
    "    Q, B = decomposition(W, rank)\n",
    "\n",
    "    # Apply SVD to decompose Q into weights and rotations\n",
    "    L = np.zeros((T, K))\n",
    "    R = np.zeros((T, 2, 3))\n",
    "    for t in range(T):\n",
    "        q = Q[2*t:2*t+2, :] # 2 x 3K\n",
    "        q_bar = np.zeros((K, 6)) # K x 6\n",
    "        for k in range(K):\n",
    "            q_bar[k, :] = q[:, 3*k:3*(k+1)].flatten()\n",
    "        L_t, R_t = decomposition(q_bar, 1)\n",
    "        L[t, :] = L_t.flatten()\n",
    "        R[t, :, :] = R_t.reshape((2, 3))\n",
    "\n",
    "    # Enforce orthonormality of rotation matrices\n",
    "    A = np.zeros((3*T, 6))\n",
    "    b = np.zeros((3*T))\n",
    "    for t in range(T):\n",
    "        r1, r2, r3, r4, r5, r6 = R[t, :, :].flatten()\n",
    "        A[3*t, :] = np.array([r1*r1, 2*r1*r2, 2*r1*r3, r2*r2, 2*r2*r3, r3*r3])\n",
    "        A[3*t+1, :] = np.array([r4*r4, 2*r4*r5, 2*r4*r6, r5*r5, 2*r5*r6, r6*r6])\n",
    "        A[3*t+2, :] = np.array([r1*r4, r2*r4 + r1*r5, r3*r4 + r1*r6, r2*r5, r3*r5 + r2*r6, r3*r6])\n",
    "        b[3*t:3*t+3] = np.array([1, 1, 0])\n",
    "    Q, _, _, _ = np.linalg.lstsq(A, b, rcond=None)\n",
    "    Q = np.array([[Q[0], Q[1], Q[2]],\n",
    "                  [Q[1], Q[3], Q[4]],\n",
    "                  [Q[2], Q[4], Q[5]]])\n",
    "    G = np.linalg.cholesky(Q)\n",
    "    G_inv = np.linalg.inv(G)\n",
    "    R = np.matmul(R, G)\n",
    "    for k in range(K):\n",
    "        B[3*k:3*k + 3, :] = np.matmul(G_inv, B[3*k:3*k + 3, :])\n",
    "\n",
    "    return B, L, R\n",
    "\n",
    "def decomposition(A, rank):\n",
    "    U, s, V = np.linalg.svd(A)\n",
    "    s = np.sqrt(s[:rank])\n",
    "    U = U[:, :rank] * s.reshape(1, rank)\n",
    "    V = s.reshape(rank, 1) * V[:rank, :]\n",
    "    return U, V\n",
    "\n",
    "'''\n",
    "SCATTER_3D_AXIS_EQUAL\n",
    "Arguments:\n",
    "    X - the coordinates on the x axis (N long vector)\n",
    "    Y - the coordinates on the y axis (N long vector)\n",
    "    Z - the coordinates on the z axis (N long vector)\n",
    "    ax - the pyplot axis\n",
    "Returns:\n",
    "    Nothing; instead plots the points of (X, Y, Z) such that the axes are equal\n",
    "'''\n",
    "def scatter_3D_axis_equal(X, Y, Z, ax, xlims, ylims, zlims):\n",
    "    ax.scatter(X, Y, Z)\n",
    "\n",
    "    ax.set_xlim(*xlims)\n",
    "    ax.set_ylim(*ylims)\n",
    "    ax.set_zlim(*zlims)\n",
    "\n",
    "\"\"\"\n",
    "Arguments:\n",
    "    points - 2 x P matrix of point coordinates\n",
    "    bases - 3K x P\n",
    "    weights - T x K weights\n",
    "    rotations: structure - T x 2 x 3 rotation matrix\n",
    "\"\"\"\n",
    "def reprojection_error(points, bases, weights, rotations):\n",
    "    T, K = weights.shape\n",
    "    P = points.shape[1]\n",
    "    error = 0.0\n",
    "    points = points - np.mean(points, axis=1, keepdims=True)\n",
    "    for t in range(T):\n",
    "        structure = np.zeros((3, P)) # 3 x P\n",
    "        for k in range(K):\n",
    "            structure += weights[t, k] * bases[3*k : 3*(k + 1), :]\n",
    "\n",
    "        reconstr_points = np.matmul(rotations[t, :, :], structure) # 2 x P\n",
    "        error += np.linalg.norm(reconstr_points - points[2*t:2*t+2, :])\n",
    "    return error / (T * P)"
   ]
  },
  {
   "cell_type": "code",
   "execution_count": null,
   "metadata": {
    "collapsed": true
   },
   "outputs": [],
   "source": [
    "if not os.path.exists(FRAME_DIR):\n",
    "    os.makedirs(FRAME_DIR)\n",
    "\n",
    "detector = dlib.get_frontal_face_detector()\n",
    "predictor = dlib.shape_predictor(PREDICTOR_FILE)"
   ]
  },
  {
   "cell_type": "markdown",
   "metadata": {},
   "source": [
    "# No deformation pipeline"
   ]
  },
  {
   "cell_type": "code",
   "execution_count": null,
   "metadata": {
    "collapsed": false
   },
   "outputs": [],
   "source": [
    "print \"Extracting frames from video3.\"\n",
    "frames_nodef = get_frames(\"video3.mp4\", 20, rotation=90) \n",
    "T_nodef = len(frames_nodef)\n",
    "print \"Extracted {} frames.\".format(T_nodef)"
   ]
  },
  {
   "cell_type": "code",
   "execution_count": null,
   "metadata": {
    "collapsed": false
   },
   "outputs": [],
   "source": [
    "points_nodef = []\n",
    "idx = 0\n",
    "for t in range(T):\n",
    "    _, landmarks = get_landmarks(frames_nodef[t], detector, predictor) # 68 x 2\n",
    "    if landmarks is not None:\n",
    "        points_nodef.append(landmarks[:, 0])\n",
    "        points_nodef.append(landmarks[:, 1])\n",
    "\n",
    "        cv2.imwrite(FRAME_DIR + '/original/video3_frame_{}_original.png'.format(idx), frames_nodef[t])\n",
    "        for (x, y) in landmarks:\n",
    "           cv2.circle(frames_nodef[t], (x, y), 5, (0, 0, 255), -1)\n",
    "        cv2.imwrite(FRAME_DIR + '/landmarked/video3_frame_{}_landmarked.png'.format(idx), frames_nodef[t])\n",
    "        idx += 1\n",
    "\n",
    "print \"Found a face in {} frames.\".format(len(points_nodef) / 2)\n",
    "points_nodef = np.array(points_nodef)"
   ]
  },
  {
   "cell_type": "code",
   "execution_count": null,
   "metadata": {
    "collapsed": true
   },
   "outputs": [],
   "source": [
    "bases, weights, rotations = nonrigid_sfm(points_nodef, 20) "
   ]
  },
  {
   "cell_type": "code",
   "execution_count": null,
   "metadata": {
    "collapsed": false
   },
   "outputs": [],
   "source": [
    "print \"Generating output frames.\"\n",
    "T = weights.shape[0]\n",
    "structure = np.zeros((T, 3, NUM_POINTS)) # T x 3 x P\n",
    "for t in range(T):\n",
    "    for k in range(1):\n",
    "        structure[t, :, :] += weights[t, k] * bases[3*k : 3*(k + 1), :]\n",
    "\n",
    "xlims = (np.min(structure[:, 0, :]), np.max(structure[:, 0, :]))\n",
    "ylims = (np.min(structure[:, 1, :]), np.max(structure[:, 1, :]))\n",
    "zlims = (np.min(structure[:, 2, :]), np.max(structure[:, 2, :]))\n",
    "\n",
    "for t in range(T):\n",
    "    fig = plt.figure()\n",
    "    ax = fig.add_subplot(111, projection = '3d')\n",
    "    scatter_3D_axis_equal(structure[t,0,:], \n",
    "                          structure[t,1,:], \n",
    "                          structure[t,2,:], \n",
    "                          ax, xlims, ylims, zlims)\n",
    "    ax.set_title('frame_{}'.format(t))\n",
    "    ax.view_init(80, 30)\n",
    "    plt.savefig(FRAME_DIR + '/reconstruction/video3_frame_{}_reconstruction.png'.format(t))\n",
    "    plt.close(fig)\n",
    "\n",
    "print \"Done.\""
   ]
  },
  {
   "cell_type": "code",
   "execution_count": null,
   "metadata": {
    "collapsed": false
   },
   "outputs": [],
   "source": [
    "errors_nodef = []\n",
    "for k in range(1, 21):\n",
    "    bases, weights, rotations = nonrigid_sfm(points_nodef, k) \n",
    "    errors_nodef.append([reprojection_error(points_nodef, bases, weights, rotations)])\n",
    "    \n",
    "fig = plt.figure()\n",
    "plt.plot(np.arange(1, 21), np.array(errors_nodef))\n",
    "plt.xlabel(\"Number of basis shapes\")\n",
    "plt.ylabel(\"Mean reprojection error\")\n",
    "plt.title(\"Reprojection error without deformation\")\n",
    "plt.show()"
   ]
  },
  {
   "cell_type": "markdown",
   "metadata": {},
   "source": [
    "# Deformation Pipeline"
   ]
  },
  {
   "cell_type": "code",
   "execution_count": null,
   "metadata": {
    "collapsed": false
   },
   "outputs": [],
   "source": [
    "print \"Extracting frames from video4.\"\n",
    "frames = get_frames(\"video.mp4\", 20, rotation=90) \n",
    "T = len(frames)\n",
    "print \"Extracted {} frames.\".format(T)"
   ]
  },
  {
   "cell_type": "code",
   "execution_count": null,
   "metadata": {
    "collapsed": false
   },
   "outputs": [],
   "source": [
    "points = []\n",
    "idx = 0\n",
    "for t in range(T):\n",
    "    _, landmarks = get_landmarks(frames[t], detector, predictor) # 68 x 2\n",
    "    if landmarks is not None:\n",
    "        points.append(landmarks[:, 0])\n",
    "        points.append(landmarks[:, 1])\n",
    "\n",
    "        cv2.imwrite(FRAME_DIR + '/original/video_frame_{}_original.png'.format(idx), frames[t])\n",
    "        for (x, y) in landmarks:\n",
    "           cv2.circle(frames[t], (x, y), 5, (0, 0, 255), -1)\n",
    "        cv2.imwrite(FRAME_DIR + '/landmarked/video_frame_{}_landmarked.png'.format(idx), frames[t])\n",
    "        idx += 1\n",
    "\n",
    "print \"Found a face in {} frames.\".format(len(points) / 2)\n",
    "points = np.array(points)\n",
    "#points = points - np.mean(points, axis=1, keepdims=True)"
   ]
  },
  {
   "cell_type": "code",
   "execution_count": null,
   "metadata": {
    "collapsed": false
   },
   "outputs": [],
   "source": [
    "print points"
   ]
  },
  {
   "cell_type": "code",
   "execution_count": null,
   "metadata": {
    "collapsed": true
   },
   "outputs": [],
   "source": [
    "bases, weights, rotations = nonrigid_sfm(points, 20) "
   ]
  },
  {
   "cell_type": "code",
   "execution_count": null,
   "metadata": {
    "collapsed": false
   },
   "outputs": [],
   "source": [
    "print \"Generating output frames.\"\n",
    "T = weights.shape[0]\n",
    "structure = np.zeros((T, 3, NUM_POINTS)) # T x 3 x P\n",
    "for t in range(T):\n",
    "    for k in range(1):\n",
    "        structure[t, :, :] += weights[t, k] * bases[3*k : 3*(k + 1), :]\n",
    "\n",
    "xlims = (np.min(structure[:, 0, :]), np.max(structure[:, 0, :]))\n",
    "ylims = (np.min(structure[:, 1, :]), np.max(structure[:, 1, :]))\n",
    "zlims = (np.min(structure[:, 2, :]), np.max(structure[:, 2, :]))\n",
    "\n",
    "for t in range(T):\n",
    "    fig = plt.figure()\n",
    "    ax = fig.add_subplot(111, projection = '3d')\n",
    "    scatter_3D_axis_equal(structure[t,0,:], \n",
    "                          structure[t,1,:], \n",
    "                          structure[t,2,:], \n",
    "                          ax, xlims, ylims, zlims)\n",
    "    ax.set_title('frame_{}'.format(t))\n",
    "    ax.view_init(80, 30)\n",
    "    plt.savefig(FRAME_DIR + '/reconstruction/video_frame_{}_reconstruction.png'.format(t))\n",
    "    plt.close(fig)\n",
    "    \n",
    "print \"Done.\""
   ]
  },
  {
   "cell_type": "code",
   "execution_count": null,
   "metadata": {
    "collapsed": false
   },
   "outputs": [],
   "source": [
    "errors = []\n",
    "for k in range(1, 21):\n",
    "    bases, weights, rotations = nonrigid_sfm(points, k) \n",
    "    errors.append(reprojection_error(points, bases, weights, rotations))\n",
    "    \n",
    "fig = plt.figure()\n",
    "plt.plot(np.arange(1, 21).astype(np.int32), np.array(errors), 'g')\n",
    "plt.xlabel(\"Number of basis shapes\")\n",
    "plt.ylabel(\"Mean reprojection error\")\n",
    "plt.title(\"Reprojection error with deformation\")\n",
    "plt.show()\n",
    "print errors"
   ]
  },
  {
   "cell_type": "code",
   "execution_count": null,
   "metadata": {
    "collapsed": true
   },
   "outputs": [],
   "source": []
  }
 ],
 "metadata": {
  "kernelspec": {
   "display_name": "Python 2",
   "language": "python",
   "name": "python2"
  },
  "language_info": {
   "codemirror_mode": {
    "name": "ipython",
    "version": 2
   },
   "file_extension": ".py",
   "mimetype": "text/x-python",
   "name": "python",
   "nbconvert_exporter": "python",
   "pygments_lexer": "ipython2",
   "version": "2.7.14"
  }
 },
 "nbformat": 4,
 "nbformat_minor": 0
}
